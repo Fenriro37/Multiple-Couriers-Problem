{
 "cells": [
  {
   "cell_type": "code",
   "execution_count": 23,
   "metadata": {},
   "outputs": [
    {
     "data": {
      "text/plain": [
       "['PULP_CBC_CMD']"
      ]
     },
     "execution_count": 23,
     "metadata": {},
     "output_type": "execute_result"
    }
   ],
   "source": [
    "\"\"\"\n",
    "import pulp\n",
    "pulp.listSolvers(onlyAvailable=True)\n",
    "\"\"\""
   ]
  },
  {
   "cell_type": "code",
   "execution_count": 24,
   "metadata": {},
   "outputs": [],
   "source": [
    "from pathlib import Path\n",
    "instances_folder = Path.cwd().parent / 'instances'\n",
    "\n",
    "file_path = instances_folder / 'your_file.txt'\n"
   ]
  },
  {
   "cell_type": "code",
   "execution_count": 25,
   "metadata": {},
   "outputs": [],
   "source": [
    "from pathlib import Path\n",
    "\n",
    "instances_folder = Path.cwd().parent / 'instances'\n",
    "filename = 'inst01.dat'\n",
    "file_path = instances_folder / filename\n",
    "\n",
    "def read_integers_from_file(file_path):\n",
    "    with open(file_path, 'r') as file:\n",
    "        lines = file.readlines()\n",
    "    data = []\n",
    "    for line in lines:\n",
    "        numbers = list(map(int, line.split()))\n",
    "        data.append(numbers)\n",
    "    \n",
    "    return data\n",
    "\n",
    "data = read_integers_from_file(file_path)\n",
    "couriers = data[0][0]\n",
    "items = data[1][0]\n",
    "l = data[2]\n",
    "s = data[3]\n",
    "D = data[4:]\n",
    "nodes = items+1"
   ]
  },
  {
   "cell_type": "code",
   "execution_count": 26,
   "metadata": {},
   "outputs": [
    {
     "data": {
      "text/plain": [
       "[[0, 2, 3, 4, 3, 4, 4],\n",
       " [2, 0, 3, 4, 5, 6, 6],\n",
       " [3, 3, 0, 1, 4, 5, 7],\n",
       " [4, 4, 1, 0, 5, 6, 6],\n",
       " [2, 4, 4, 5, 0, 3, 3],\n",
       " [4, 6, 7, 8, 3, 0, 2],\n",
       " [4, 6, 7, 8, 3, 2, 0]]"
      ]
     },
     "execution_count": 26,
     "metadata": {},
     "output_type": "execute_result"
    }
   ],
   "source": [
    "def reorder_distance_matrix(D): #Just to chech if i missed something with classical formulation\n",
    "    last_row = D[-1]\n",
    "    last_column = [row[-1] for row in D]\n",
    "    \n",
    "    D_reduced = [row[:-1] for row in D[:-1]]\n",
    "    \n",
    "    new_matrix = []\n",
    "    \n",
    "    new_matrix.append([last_row[-1]] + last_row[:-1])\n",
    "    \n",
    "    for i in range(len(D_reduced)):\n",
    "        new_matrix.append([last_column[i]] + D_reduced[i])\n",
    "    \n",
    "    return new_matrix\n",
    "\n",
    "D = reorder_distance_matrix(D)\n",
    "D\n"
   ]
  },
  {
   "cell_type": "code",
   "execution_count": 27,
   "metadata": {},
   "outputs": [],
   "source": [
    "from pulp import LpProblem, LpVariable, lpSum, LpBinary, LpMinimize,LpContinuous,LpInteger,PULP_CBC_CMD,getSolver\n",
    "\n",
    "prob = LpProblem(\"Vehicle_Routing_Problem\", LpMinimize)\n",
    "X = LpVariable.dicts(\"X\", (range(nodes), range(nodes), range(couriers)), cat=LpBinary)\n",
    "\n",
    "# Define the maximum distance variable Z\n",
    "Z = LpVariable(\"Z\", lowBound=0)\n",
    "\n",
    "# MTZ Constraints\n",
    "u = LpVariable.dicts(\"u\", range(nodes), lowBound=0, upBound=nodes-1, cat=LpInteger)\n"
   ]
  },
  {
   "cell_type": "code",
   "execution_count": 28,
   "metadata": {},
   "outputs": [
    {
     "data": {
      "text/plain": [
       "1"
      ]
     },
     "execution_count": 28,
     "metadata": {},
     "output_type": "execute_result"
    }
   ],
   "source": [
    "# No self loop\n",
    "for k in range(couriers): \n",
    "    for i in range(nodes):\n",
    "         prob += X[i][i][k] == 0\n",
    "\n",
    "#1 Vehicle leaves node that it enters\n",
    "for k in range(couriers):\n",
    "    for j in range(nodes): \n",
    "        prob += lpSum(X[i][j][k] for i in range(nodes)) == lpSum(X[j][i][k] for i in range(nodes))\n",
    "\n",
    "#2 Ensure that every node is entered once\n",
    "for j in range(1,nodes): #skipping depot = 0\n",
    "    prob += lpSum(X[i][j][k] for i in range(nodes) for k in range(couriers)) == 1\n",
    "\n",
    "#3 Ensure every vehicle leaves the depot\n",
    "for k in range(couriers):\n",
    "    prob += lpSum(X[0][j][k] for j in range(1,nodes)) == 1\n",
    "\n",
    "#Capacity constraint\n",
    "for k in range(couriers):\n",
    "    prob += lpSum(X[i][j][k] * s[j-1] for i in range(nodes) for j in range(1,nodes)) <= l[k]  #s[j-1] because we shifted depot at position 0\n",
    "\n",
    "# Add constraints for Z\n",
    "for k in range(couriers):\n",
    "    prob += lpSum(D[i][j] * X[i][j][k] for i in range(nodes) for j in range(nodes)) <= Z\n",
    "\n",
    "# Eliminating subtours\n",
    "for k in range(couriers):\n",
    "    for i in range(1, nodes):\n",
    "        for j in range(1, nodes):\n",
    "            prob += u[i] - u[j] + (nodes-1) * X[i][j][k] <= nodes-2\n",
    "\n",
    "prob += Z\n",
    "prob.solve()"
   ]
  },
  {
   "cell_type": "code",
   "execution_count": 29,
   "metadata": {},
   "outputs": [
    {
     "name": "stdout",
     "output_type": "stream",
     "text": [
      "Optimal value for Z: 14.0\n",
      "Courier 0 route:\n",
      "  0 -> 1\n",
      "  1 -> 3\n",
      "  3 -> 4\n",
      "  4 -> 0\n",
      "Courier 1 route:\n",
      "  0 -> 2\n",
      "  2 -> 5\n",
      "  5 -> 6\n",
      "  6 -> 0\n"
     ]
    }
   ],
   "source": [
    "print(\"Optimal value for Z:\", Z.varValue)\n",
    "for k in range(couriers):\n",
    "    print(f\"Courier {k} route:\")\n",
    "    for i in range(items + 1):\n",
    "        for j in range(items + 1):\n",
    "            if X[i][j][k].varValue == 1:\n",
    "                print(f\"  {i} -> {j}\")"
   ]
  },
  {
   "cell_type": "code",
   "execution_count": 33,
   "metadata": {},
   "outputs": [],
   "source": [
    "def test_instance(file_path, filename):\n",
    "    data = read_integers_from_file(file_path)\n",
    "    couriers = data[0][0]\n",
    "    items = data[1][0]\n",
    "    l = data[2]\n",
    "    s = data[3]\n",
    "    D = data[4:]\n",
    "    nodes = items+1\n",
    "    D = reorder_distance_matrix(D)\n",
    "\n",
    "    prob = LpProblem(\"Vehicle_Routing_Problem\", LpMinimize)\n",
    "    X = LpVariable.dicts(\"X\", (range(nodes), range(nodes), range(couriers)), cat=LpBinary)\n",
    "\n",
    "    # Define the maximum distance variable Z\n",
    "    Z = LpVariable(\"Z\", lowBound=0)\n",
    "    # No self loop\n",
    "    for k in range(couriers): \n",
    "        for i in range(nodes):\n",
    "            prob += X[i][i][k] == 0\n",
    "\n",
    "    #1 Vehicle leaves node that it enters\n",
    "    for k in range(couriers):\n",
    "        for j in range(nodes): \n",
    "            prob += lpSum(X[i][j][k] for i in range(nodes)) == lpSum(X[j][i][k] for i in range(nodes))\n",
    "\n",
    "    #2 Ensure that every node is entered once\n",
    "    for j in range(1,nodes): #skipping depot = 0\n",
    "        prob += lpSum(X[i][j][k] for i in range(nodes) for k in range(couriers)) == 1\n",
    "\n",
    "    #3 Ensure every vehicle leaves the depot\n",
    "    for k in range(couriers):\n",
    "        prob += lpSum(X[0][j][k] for j in range(1,nodes)) == 1\n",
    "\n",
    "    #Capacity constraint\n",
    "    for k in range(couriers):\n",
    "        prob += lpSum(X[i][j][k] * s[j-1] for i in range(nodes) for j in range(1,nodes)) <= l[k]  #s[j-1] because we shifted depot at position 0\n",
    "\n",
    "    # Add constraints for Z\n",
    "    for k in range(couriers):\n",
    "        prob += lpSum(D[i][j] * X[i][j][k] for i in range(nodes) for j in range(nodes)) <= Z\n",
    "\n",
    "    # MTZ Constraints\n",
    "    u = LpVariable.dicts(\"u\", range(nodes), lowBound=0, upBound=nodes-1, cat=LpContinuous)\n",
    "\n",
    "    # Ensure valid flow in the network\n",
    "    for k in range(couriers):\n",
    "        for i in range(1, nodes):\n",
    "            for j in range(1, nodes):\n",
    "    #            if i != j:\n",
    "                prob += u[i] - u[j] + (nodes-1) * X[i][j][k] <= nodes-2\n",
    "    prob += Z\n",
    "    solver = getSolver('PULP_CBC_CMD', timeLimit=10)\n",
    "\n",
    "    prob.solve(solver)\n",
    "\n",
    "    # Print results\n",
    "    print(f\"Status: {pulp.LpStatus[prob.status]}\")\n",
    "    print(f\"Optimal value for {filename}:\", Z.varValue)"
   ]
  },
  {
   "cell_type": "code",
   "execution_count": 9,
   "metadata": {},
   "outputs": [
    {
     "name": "stdout",
     "output_type": "stream",
     "text": [
      "Status: Optimal\n",
      "Optimal value for instances/inst01.dat: 14.0\n",
      "Status: Optimal\n",
      "Optimal value for instances/inst02.dat: 226.0\n",
      "Status: Optimal\n",
      "Optimal value for instances/inst03.dat: 12.0\n",
      "Status: Optimal\n",
      "Optimal value for instances/inst04.dat: 220.0\n",
      "Status: Optimal\n",
      "Optimal value for instances/inst05.dat: 206.0\n",
      "Status: Optimal\n",
      "Optimal value for instances/inst06.dat: 322.0\n",
      "Status: Optimal\n",
      "Optimal value for instances/inst07.dat: 168.0\n",
      "Status: Optimal\n",
      "Optimal value for instances/inst08.dat: 186.0\n",
      "Status: Optimal\n",
      "Optimal value for instances/inst09.dat: 436.0\n",
      "Status: Optimal\n",
      "Optimal value for instances/inst10.dat: 244.0\n",
      "Status: Not Solved\n",
      "Optimal value for instances/inst11.dat: 103.64608\n",
      "Status: Not Solved\n",
      "Optimal value for instances/inst12.dat: 82.899919\n",
      "Status: Optimal\n",
      "Optimal value for instances/inst13.dat: 540.0\n"
     ]
    }
   ],
   "source": [
    "for i in range(1, 22):\n",
    "    filename = f'inst{str(i).zfill(2)}.dat'\n",
    "    file_path = instances_folder / filename\n",
    "    test_instance(file_path,filename)"
   ]
  }
 ],
 "metadata": {
  "kernelspec": {
   "display_name": "base",
   "language": "python",
   "name": "python3"
  },
  "language_info": {
   "codemirror_mode": {
    "name": "ipython",
    "version": 3
   },
   "file_extension": ".py",
   "mimetype": "text/x-python",
   "name": "python",
   "nbconvert_exporter": "python",
   "pygments_lexer": "ipython3",
   "version": "3.11.9"
  }
 },
 "nbformat": 4,
 "nbformat_minor": 2
}
